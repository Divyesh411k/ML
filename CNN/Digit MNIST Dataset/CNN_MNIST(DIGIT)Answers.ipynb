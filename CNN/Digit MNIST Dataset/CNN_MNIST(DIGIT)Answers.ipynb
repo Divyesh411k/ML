{
  "nbformat": 4,
  "nbformat_minor": 0,
  "metadata": {
    "colab": {
      "provenance": [],
      "toc_visible": true
    },
    "kernelspec": {
      "name": "python3",
      "display_name": "Python 3"
    },
    "language_info": {
      "name": "python"
    }
  },
  "cells": [
    {
      "cell_type": "markdown",
      "source": [
        "**CNN (MNIST DIGIT DATASET)**\n"
      ],
      "metadata": {
        "id": "Y7bn7eKI9Zfp"
      }
    },
    {
      "cell_type": "markdown",
      "source": [
        "Insert Code wherever represented with \"#***************#\""
      ],
      "metadata": {
        "id": "S2NnlUwG-F9N"
      }
    },
    {
      "cell_type": "markdown",
      "source": [
        "# Importing Libraries"
      ],
      "metadata": {
        "id": "K_vch6Ru_S7B"
      }
    },
    {
      "cell_type": "code",
      "execution_count": 15,
      "metadata": {
        "id": "tqfK9VgKUeOk"
      },
      "outputs": [],
      "source": [
        "import keras\n",
        "import cv2\n",
        "import numpy as np\n",
        "from keras.datasets import mnist\n",
        "from keras.models import Sequential , load_model\n",
        "from keras.layers import Dense, Dropout, Flatten, Conv2D, MaxPooling2D\n",
        "import matplotlib.pyplot as plt\n",
        "from keras.utils.vis_utils import plot_model"
      ]
    },
    {
      "cell_type": "markdown",
      "source": [
        "# Data Preprocessing"
      ],
      "metadata": {
        "id": "YBdpRv6B_uTn"
      }
    },
    {
      "cell_type": "code",
      "source": [
        "(x_train, y_train), (x_test, y_test) = mnist.load_data()\n",
        "\n",
        "x_train= x_train.reshape(60000,28,28)\n",
        "\n",
        "x_test= x_test.reshape(x_test.shape[0],28,28)\n",
        "\n",
        "input_shape=(28,28,1)\n",
        "\n",
        "y_train=keras.utils.to_categorical(y_train,10)\n",
        "\n",
        "y_test=keras.utils.to_categorical(y_test,10)\n",
        "\n",
        "x_train= x_train.astype('float32')\n",
        "x_test= x_test.astype('float32')\n",
        "\n",
        "for i in range(10):\n",
        "  plt.imshow(x_train[i])\n",
        "  plt.subplot(5,2,i+1)"
      ],
      "metadata": {
        "colab": {
          "base_uri": "https://localhost:8080/",
          "height": 304
        },
        "id": "qsL8aQe88Eeu",
        "outputId": "c8c3cc4b-cac0-4432-e645-24a028c3968c"
      },
      "execution_count": 2,
      "outputs": [
        {
          "output_type": "stream",
          "name": "stdout",
          "text": [
            "Downloading data from https://storage.googleapis.com/tensorflow/tf-keras-datasets/mnist.npz\n",
            "11490434/11490434 [==============================] - 1s 0us/step\n"
          ]
        },
        {
          "output_type": "display_data",
          "data": {
            "text/plain": [
              "<Figure size 432x288 with 10 Axes>"
            ],
            "image/png": "[encoded data removed]"
          },
          "metadata": {
            "needs_background": "light"
          }
        }
      ]
    },
    {
      "cell_type": "markdown",
      "source": [
        "# Build CNN Model"
      ],
      "metadata": {
        "id": "0IKub0EVK0Qj"
      }
    },
    {
      "cell_type": "code",
      "source": [
        "x_train /= 255\n",
        "x_test /=255\n",
        "batch_size=64 \n",
        "\n",
        "num_classes=10\n",
        "epochs=2\n",
        "\n",
        "def build_model(optimizer): \n",
        "\n",
        "  model=Sequential()\n",
        "\n",
        "  model.add(Conv2D(32,kernel_size=(3,3),activation='relu',input_shape=input_shape)) \n",
        "\n",
        "  model.add(MaxPooling2D(pool_size=(2,2))) \n",
        "\n",
        "  model.add(Conv2D(32,kernel_size=(3,3),activation='relu')) \n",
        "\n",
        "  model.add(MaxPooling2D(pool_size=(2,2))) \n",
        "\n",
        "  model.add(Dropout(0.25)) \n",
        "\n",
        "  model.add(Flatten()) \n",
        "\n",
        "  model.add(Dense(256, activation='relu')) \n",
        "\n",
        "  model.add(Dropout(0.5)) \n",
        "\n",
        "  model.add(Dense(num_classes, activation='softmax')) \n",
        "\n",
        "  model.compile(loss=keras.losses.categorical_crossentropy, optimizer= optimizer, metrics=['accuracy']) \n",
        "  model.summary()\n",
        "\n",
        "  return model \n",
        "\n",
        "# optimizers = ['Adadelta', 'Adagrad', 'Adam', 'RMSprop', 'SGD'] \n",
        "\n",
        "# #for i in optimizers: \n",
        "\n",
        "model = build_model('Adam') \n",
        "\n",
        "\n",
        "plot_model(model, to_file=\"mnist model\"+ '.jpg', show_shapes=True)\n",
        "hist=model.fit(x_train, y_train, batch_size=batch_size, epochs=epochs, verbose=1, validation_data=(x_test,y_test)) "
      ],
      "metadata": {
        "colab": {
          "base_uri": "https://localhost:8080/"
        },
        "id": "eAOm0vmLBLip",
        "outputId": "8fa885db-f420-4363-c038-2dc46ac85f79"
      },
      "execution_count": 3,
      "outputs": [
        {
          "output_type": "stream",
          "name": "stdout",
          "text": [
            "Model: \"sequential\"\n",
            "_________________________________________________________________\n",
            " Layer (type)                Output Shape              Param #   \n",
            "=================================================================\n",
            " conv2d (Conv2D)             (None, 26, 26, 32)        320       \n",
            "                                                                 \n",
            " max_pooling2d (MaxPooling2D  (None, 13, 13, 32)       0         \n",
            " )                                                               \n",
            "                                                                 \n",
            " conv2d_1 (Conv2D)           (None, 11, 11, 32)        9248      \n",
            "                                                                 \n",
            " max_pooling2d_1 (MaxPooling  (None, 5, 5, 32)         0         \n",
            " 2D)                                                             \n",
            "                                                                 \n",
            " dropout (Dropout)           (None, 5, 5, 32)          0         \n",
            "                                                                 \n",
            " flatten (Flatten)           (None, 800)               0         \n",
            "                                                                 \n",
            " dense (Dense)               (None, 256)               205056    \n",
            "                                                                 \n",
            " dropout_1 (Dropout)         (None, 256)               0         \n",
            "                                                                 \n",
            " dense_1 (Dense)             (None, 10)                2570      \n",
            "                                                                 \n",
            "=================================================================\n",
            "Total params: 217,194\n",
            "Trainable params: 217,194\n",
            "Non-trainable params: 0\n",
            "_________________________________________________________________\n",
            "Epoch 1/2\n",
            "938/938 [==============================] - 51s 54ms/step - loss: 0.2523 - accuracy: 0.9217 - val_loss: 0.0584 - val_accuracy: 0.9810\n",
            "Epoch 2/2\n",
            "938/938 [==============================] - 48s 51ms/step - loss: 0.0866 - accuracy: 0.9734 - val_loss: 0.0395 - val_accuracy: 0.9872\n"
          ]
        }
      ]
    },
    {
      "cell_type": "code",
      "source": [
        "y1=hist.history['accuracy']\n",
        "y2=hist.history['val_accuracy']\n",
        "plt.plot(y1)\n",
        "plt.plot(y2)"
      ],
      "metadata": {
        "colab": {
          "base_uri": "https://localhost:8080/",
          "height": 285
        },
        "id": "Y-VbkMbGzZ8M",
        "outputId": "1a1aebed-fae4-4c78-bbfc-9ff5b7425c26"
      },
      "execution_count": 4,
      "outputs": [
        {
          "output_type": "execute_result",
          "data": {
            "text/plain": [
              "[<matplotlib.lines.Line2D at 0x7fdfc0b49a60>]"
            ]
          },
          "metadata": {},
          "execution_count": 4
        },
        {
          "output_type": "display_data",
          "data": {
            "text/plain": [
              "<Figure size 432x288 with 1 Axes>"
            ],
            "image/png": "[encoded data removed]"
          },
          "metadata": {
            "needs_background": "light"
          }
        }
      ]
    },
    {
      "cell_type": "markdown",
      "source": [
        "# Predict Image"
      ],
      "metadata": {
        "id": "sN7dbWyxLMSu"
      }
    },
    {
      "cell_type": "code",
      "source": [
        "keras.models.save_model(model, \"mnist.h5\", save_format=\"h5\")\n",
        "\n",
        "def predict_image(model, img):\n",
        "  # img = cv2.resize(img, (28,28,1))\n",
        "  img = np.reshape(img,(1, 28, 28))\n",
        "  pred = model.predict(img)\n",
        "  img = img.astype('float32')\n",
        "  img /=255\n",
        "  print(pred)\n",
        "  answer = np.argmax(pred)\n",
        "  print(answer)\n",
        "  #label = '' if np.array(pred).size >= 0.5 else 'NORMAL'\n",
        "  #print(\"prediction: \", label, \"P(Pneumonia): \", pred[0][0])\n",
        "\n",
        "\n",
        "m = load_model('/content/mnist.h5')\n",
        "predict_image(m, x_test[7])\n",
        "plt.imshow(x_test[7],cmap='gray')\n"
      ],
      "metadata": {
        "id": "kegd0MEqEgXD",
        "colab": {
          "base_uri": "https://localhost:8080/",
          "height": 352
        },
        "outputId": "d48340c9-2590-4ab9-9bc2-d0cc5a26c0bf"
      },
      "execution_count": 9,
      "outputs": [
        {
          "output_type": "stream",
          "name": "stdout",
          "text": [
            "1/1 [==============================] - 0s 114ms/step\n",
            "[[9.7524708e-07 3.4269199e-06 3.1936452e-05 1.0521631e-04 1.9687426e-03\n",
            "  2.3254979e-04 1.2189153e-07 7.4635045e-06 4.5022476e-04 9.9719942e-01]]\n",
            "9\n"
          ]
        },
        {
          "output_type": "execute_result",
          "data": {
            "text/plain": [
              "<matplotlib.image.AxesImage at 0x7fdfc3057fa0>"
            ]
          },
          "metadata": {},
          "execution_count": 9
        },
        {
          "output_type": "display_data",
          "data": {
            "text/plain": [
              "<Figure size 432x288 with 1 Axes>"
            ],
            "image/png": "[encoded data removed]"
          },
          "metadata": {
            "needs_background": "light"
          }
        }
      ]
    },
    {
      "cell_type": "markdown",
      "source": [],
      "metadata": {
        "id": "1ki_0BmBatUw"
      }
    }
  ]
}