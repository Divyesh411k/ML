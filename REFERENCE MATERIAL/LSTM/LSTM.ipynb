{
  "cells": [
    {
      "cell_type": "markdown",
      "source": [
        "## LSTM Experiment\n",
        "Insert Code wherever represented with \"#***************#\""
      ],
      "metadata": {
        "id": "Qtdo2Tl5yAJN"
      }
    },
    {
      "cell_type": "code",
      "execution_count": null,
      "metadata": {
        "id": "-HQmhSkD10dq"
      },
      "outputs": [],
      "source": [
        "import numpy\n",
        "from keras.datasets import imdb\n",
        "from keras.models import Sequential\n",
        "from keras.layers import Dense\n",
        "from keras.layers import LSTM\n",
        "from keras.layers import Embedding\n",
        "from keras.preprocessing import sequence\n",
        "from keras_preprocessing.sequence import pad_sequences\n",
        "\n",
        "# fix random seed for reproducibility\n",
        "#numpy.random.seed(7)"
      ]
    },
    {
      "cell_type": "code",
      "execution_count": null,
      "metadata": {
        "id": "WKKlKKsy3ZeT"
      },
      "outputs": [],
      "source": [
        "top_words = 5000\n",
        "\"\"\"\n",
        "    Load the IMDB Movie Review dataset and train them into train and split from imdb.load_dataset\n",
        "    Also mention the num_words parameter as top_words\n",
        "\"\"\"\n",
        "#********************#"
      ]
    },
    {
      "cell_type": "code",
      "execution_count": null,
      "metadata": {
        "id": "oILf-5_z3a35",
        "outputId": "87e4b564-973d-4952-8e43-1013c7da4e65",
        "colab": {
          "base_uri": "https://localhost:8080/"
        }
      },
      "outputs": [
        {
          "output_type": "stream",
          "name": "stdout",
          "text": [
            "[1, 194, 1153, 194, 2, 78, 228, 5, 6, 1463, 4369, 2, 134, 26, 4, 715, 8, 118, 1634, 14, 394, 20, 13, 119, 954, 189, 102, 5, 207, 110, 3103, 21, 14, 69, 188, 8, 30, 23, 7, 4, 249, 126, 93, 4, 114, 9, 2300, 1523, 5, 647, 4, 116, 9, 35, 2, 4, 229, 9, 340, 1322, 4, 118, 9, 4, 130, 4901, 19, 4, 1002, 5, 89, 29, 952, 46, 37, 4, 455, 9, 45, 43, 38, 1543, 1905, 398, 4, 1649, 26, 2, 5, 163, 11, 3215, 2, 4, 1153, 9, 194, 775, 7, 2, 2, 349, 2637, 148, 605, 2, 2, 15, 123, 125, 68, 2, 2, 15, 349, 165, 4362, 98, 5, 4, 228, 9, 43, 2, 1157, 15, 299, 120, 5, 120, 174, 11, 220, 175, 136, 50, 9, 4373, 228, 2, 5, 2, 656, 245, 2350, 5, 4, 2, 131, 152, 491, 18, 2, 32, 2, 1212, 14, 9, 6, 371, 78, 22, 625, 64, 1382, 9, 8, 168, 145, 23, 4, 1690, 15, 16, 4, 1355, 5, 28, 6, 52, 154, 462, 33, 89, 78, 285, 16, 145, 95]\n",
            "<class 'list'>\n",
            "189\n",
            "0\n",
            "<class 'numpy.int64'>\n"
          ]
        }
      ],
      "source": [
        "print(X_train[1])\n",
        "print(type(X_train[1]))\n",
        "print(len(X_train[1]))\n",
        "print(y_train[1])\n",
        "print(type(y_train[1]))"
      ]
    },
    {
      "cell_type": "code",
      "execution_count": null,
      "metadata": {
        "id": "J9OUayrQ3cBJ",
        "outputId": "1daffdf4-6c51-4f2f-926b-9b77e7b9c72f",
        "colab": {
          "base_uri": "https://localhost:8080/"
        }
      },
      "outputs": [
        {
          "output_type": "stream",
          "name": "stdout",
          "text": [
            "(25000, 400)\n",
            "[   0    0    0    0    0    0    0    0    0    0    0    0    0    0\n",
            "    0    0    0    0    0    0    0    0    0    0    0    0    0    0\n",
            "    0    0    0    0    0    0    0    0    0    0    0    0    0    0\n",
            "    0    0    0    0    0    0    0    0    0    0    0    0    0    0\n",
            "    0    0    0    0    0    0    0    0    0    0    0    0    0    0\n",
            "    0    0    0    0    0    0    0    0    0    0    0    0    0    0\n",
            "    0    0    0    0    0    0    0    0    0    0    0    0    0    0\n",
            "    0    0    0    0    0    0    0    0    0    0    0    0    0    0\n",
            "    0    0    0    0    0    0    0    0    0    0    0    0    0    0\n",
            "    0    0    0    0    0    0    0    0    0    0    0    0    0    0\n",
            "    0    0    0    0    0    0    0    0    0    0    0    0    0    0\n",
            "    0    0    0    0    0    0    0    0    0    0    0    0    0    0\n",
            "    0    0    0    0    0    0    0    0    0    0    0    0    0    0\n",
            "    0    0    0    0    0    0    0    0    0    0    0    0    0    0\n",
            "    0    0    0    0    0    0    0    0    0    0    0    0    0    0\n",
            "    0    1  194 1153  194    2   78  228    5    6 1463 4369    2  134\n",
            "   26    4  715    8  118 1634   14  394   20   13  119  954  189  102\n",
            "    5  207  110 3103   21   14   69  188    8   30   23    7    4  249\n",
            "  126   93    4  114    9 2300 1523    5  647    4  116    9   35    2\n",
            "    4  229    9  340 1322    4  118    9    4  130 4901   19    4 1002\n",
            "    5   89   29  952   46   37    4  455    9   45   43   38 1543 1905\n",
            "  398    4 1649   26    2    5  163   11 3215    2    4 1153    9  194\n",
            "  775    7    2    2  349 2637  148  605    2    2   15  123  125   68\n",
            "    2    2   15  349  165 4362   98    5    4  228    9   43    2 1157\n",
            "   15  299  120    5  120  174   11  220  175  136   50    9 4373  228\n",
            "    2    5    2  656  245 2350    5    4    2  131  152  491   18    2\n",
            "   32    2 1212   14    9    6  371   78   22  625   64 1382    9    8\n",
            "  168  145   23    4 1690   15   16    4 1355    5   28    6   52  154\n",
            "  462   33   89   78  285   16  145   95]\n"
          ]
        }
      ],
      "source": [
        "# truncate and/or pad input sequences\n",
        "max_review_length = 400\n",
        "\"\"\"\n",
        "    Apply padding to both X_train and x_test variables with above mentioned max_review_length\n",
        "\"\"\"\n",
        "X_train = #********************#\n",
        "X_test = #********************#\n",
        "\n",
        "print(X_train.shape)\n",
        "print(X_train[1])"
      ]
    },
    {
      "cell_type": "code",
      "execution_count": null,
      "metadata": {
        "id": "G1_PRdMR3dpx",
        "colab": {
          "base_uri": "https://localhost:8080/"
        },
        "outputId": "12726b5b-a69c-4049-fade-e738061a2c7e"
      },
      "outputs": [
        {
          "output_type": "stream",
          "name": "stdout",
          "text": [
            "Model: \"sequential_5\"\n",
            "_________________________________________________________________\n",
            " Layer (type)                Output Shape              Param #   \n",
            "=================================================================\n",
            " embedding_5 (Embedding)     (None, 400, 32)           160032    \n",
            "                                                                 \n",
            " lstm_5 (LSTM)               (None, 10)                1720      \n",
            "                                                                 \n",
            " dense_6 (Dense)             (None, 1)                 11        \n",
            "                                                                 \n",
            "=================================================================\n",
            "Total params: 161,763\n",
            "Trainable params: 161,763\n",
            "Non-trainable params: 0\n",
            "_________________________________________________________________\n",
            "None\n"
          ]
        }
      ],
      "source": [
        "import tensorflow as tf\n",
        "# Create the model\n",
        "\n",
        "embedding_vector_length = 32\n",
        "\n",
        "\"\"\"\n",
        "    Create LSTM Model using following Layers:\n",
        "    1. Embedding Layer\n",
        "    2. LSTM with 10 neurons\n",
        "    3. Dense Layer with sigmoid activation for Output\n",
        "\"\"\"\n",
        "model = Sequential()\n",
        "model.add(#********************#)\n",
        "model.add(#********************#)\n",
        "model.add(#********************#)"
      ]
    },
    {
      "cell_type": "code",
      "source": [
        "\"\"\"\n",
        "    Compile the model using following criteria:\n",
        "    compile(loss, optimizer, metrics=['accuracy'])\n",
        "\"\"\"\n",
        "#********************#\n",
        "model.summary()"
      ],
      "metadata": {
        "id": "kfvU5KSlMLrL"
      },
      "execution_count": null,
      "outputs": []
    },
    {
      "cell_type": "code",
      "execution_count": null,
      "metadata": {
        "id": "RSY2soKK3fux",
        "outputId": "07c49f56-40a9-4b90-9078-30a0e2285625",
        "colab": {
          "base_uri": "https://localhost:8080/"
        }
      },
      "outputs": [
        {
          "output_type": "stream",
          "name": "stdout",
          "text": [
            "Epoch 1/10\n",
            "98/98 [==============================] - 33s 312ms/step - loss: 0.6363 - accuracy: 0.6708 - val_loss: 0.5000 - val_accuracy: 0.8096\n",
            "Epoch 2/10\n",
            "98/98 [==============================] - 30s 309ms/step - loss: 0.4134 - accuracy: 0.8388 - val_loss: 0.4061 - val_accuracy: 0.8315\n",
            "Epoch 3/10\n",
            "98/98 [==============================] - 33s 338ms/step - loss: 0.3174 - accuracy: 0.8789 - val_loss: 0.3360 - val_accuracy: 0.8656\n",
            "Epoch 4/10\n",
            "98/98 [==============================] - 30s 307ms/step - loss: 0.2622 - accuracy: 0.9042 - val_loss: 0.3167 - val_accuracy: 0.8711\n",
            "Epoch 5/10\n",
            "98/98 [==============================] - 31s 314ms/step - loss: 0.2246 - accuracy: 0.9200 - val_loss: 0.3211 - val_accuracy: 0.8718\n",
            "Epoch 6/10\n",
            "98/98 [==============================] - 42s 429ms/step - loss: 0.2082 - accuracy: 0.9268 - val_loss: 0.3257 - val_accuracy: 0.8698\n",
            "Epoch 7/10\n",
            "98/98 [==============================] - 30s 307ms/step - loss: 0.1848 - accuracy: 0.9382 - val_loss: 0.3320 - val_accuracy: 0.8724\n",
            "Epoch 8/10\n",
            "98/98 [==============================] - 30s 308ms/step - loss: 0.1695 - accuracy: 0.9438 - val_loss: 0.3326 - val_accuracy: 0.8694\n",
            "Epoch 9/10\n",
            "98/98 [==============================] - 30s 306ms/step - loss: 0.1549 - accuracy: 0.9493 - val_loss: 0.3548 - val_accuracy: 0.8699\n",
            "Epoch 10/10\n",
            "98/98 [==============================] - 31s 322ms/step - loss: 0.1414 - accuracy: 0.9567 - val_loss: 0.3601 - val_accuracy: 0.8679\n",
            "Accuracy: 86.79%\n"
          ]
        }
      ],
      "source": [
        "hist=model.fit(X_train, y_train, epochs=10, batch_size=256,verbose=1, validation_data=(X_test,y_test))\n",
        "\n",
        "# Final evaluation of the model\n",
        "scores = model.evaluate(X_test, y_test, verbose=0)\n",
        "\n",
        "\"\"\"\n",
        "    Print Accuracy acheived by model using the above created scores variable\n",
        "\"\"\"\n",
        "print(\"Accuracy: %.2f%%\" % (#********************#))"
      ]
    },
    {
      "cell_type": "code",
      "execution_count": null,
      "metadata": {
        "id": "qk75Y2oLxvgG",
        "colab": {
          "base_uri": "https://localhost:8080/",
          "height": 282
        },
        "outputId": "e64c8294-4bb0-4aab-fd77-3106db718696"
      },
      "outputs": [
        {
          "output_type": "execute_result",
          "data": {
            "text/plain": [
              "[<matplotlib.lines.Line2D at 0x7fdb0b2f5070>]"
            ]
          },
          "metadata": {},
          "execution_count": 25
        },
        {
          "output_type": "display_data",
          "data": {
            "text/plain": [
              "<Figure size 432x288 with 1 Axes>"
            ],
            "image/png": "[encoded data removed]"
          },
          "metadata": {
            "needs_background": "light"
          }
        }
      ],
      "source": [
        "import matplotlib.pyplot as plt\n",
        "\"\"\"\n",
        "    Plot graph between epoch vs Accuracy\n",
        "\"\"\"\n",
        "#********************#"
      ]
    },
    {
      "cell_type": "code",
      "source": [
        "import matplotlib.pyplot as plt\n",
        "\"\"\"\n",
        "    Plot graph between epoch vs loss\n",
        "\"\"\"\n",
        "#********************#"
      ],
      "metadata": {
        "id": "MnLtrd2cPKKl"
      },
      "execution_count": null,
      "outputs": []
    },
    {
      "cell_type": "code",
      "execution_count": null,
      "metadata": {
        "id": "ljHLeFMbxvgH",
        "colab": {
          "base_uri": "https://localhost:8080/"
        },
        "outputId": "28e32751-1857-41b3-b98c-a429459b942c"
      },
      "outputs": [
        {
          "output_type": "stream",
          "name": "stdout",
          "text": [
            "782/782 [==============================] - 23s 29ms/step\n",
            "[[0.078538  ]\n",
            " [0.9890348 ]\n",
            " [0.9178903 ]\n",
            " ...\n",
            " [0.03808012]\n",
            " [0.12054291]\n",
            " [0.6374319 ]]\n"
          ]
        }
      ],
      "source": [
        "pred=model.predict(X_test)\n",
        "print(pred)"
      ]
    },
    {
      "cell_type": "code",
      "source": [],
      "metadata": {
        "id": "hW4Sqmh7NBIZ"
      },
      "execution_count": null,
      "outputs": []
    }
  ],
  "metadata": {
    "colab": {
      "provenance": []
    },
    "kernelspec": {
      "display_name": "Python 3 (ipykernel)",
      "language": "python",
      "name": "python3"
    },
    "language_info": {
      "codemirror_mode": {
        "name": "ipython",
        "version": 3
      },
      "file_extension": ".py",
      "mimetype": "text/x-python",
      "name": "python",
      "nbconvert_exporter": "python",
      "pygments_lexer": "ipython3",
      "version": "3.10.0"
    }
  },
  "nbformat": 4,
  "nbformat_minor": 0
}