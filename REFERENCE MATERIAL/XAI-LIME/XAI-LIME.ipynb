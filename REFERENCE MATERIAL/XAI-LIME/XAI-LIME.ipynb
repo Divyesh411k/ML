{
 "cells": [
  {
   "attachments": {},
   "cell_type": "markdown",
   "metadata": {},
   "source": [
    "# EXPLAINABLE AI: LIME ALGORITHM"
   ]
  },
  {
   "attachments": {},
   "cell_type": "markdown",
   "metadata": {},
   "source": [
    "Insert Code wherever represented with \"#***************#\""
   ]
  },
  {
   "attachments": {},
   "cell_type": "markdown",
   "metadata": {},
   "source": [
    "### Importing Libraries Required"
   ]
  },
  {
   "cell_type": "code",
   "execution_count": null,
   "metadata": {
    "deletable": false,
    "editable": false,
    "tags": [],
    "trusted": true
   },
   "outputs": [],
   "source": [
    "!pip install lime\n",
    "from sklearn.metrics import accuracy_score\n",
    "from sklearn.datasets import load_breast_cancer\n",
    "from sklearn.model_selection import train_test_split\n",
    "from sklearn.preprocessing import LabelEncoder\n",
    "from xgboost import XGBClassifier\n",
    "\n",
    "import numpy as np\n",
    "import pandas as pd\n",
    "np.random.seed(123)\n",
    "\n",
    "import lime\n",
    "import lime.lime_tabular\n",
    "\n",
    "import warnings\n",
    "warnings.filterwarnings ('ignore')"
   ]
  },
  {
   "attachments": {},
   "cell_type": "markdown",
   "metadata": {},
   "source": [
    "### Importing Data"
   ]
  },
  {
   "cell_type": "code",
   "execution_count": null,
   "metadata": {},
   "outputs": [],
   "source": [
    "# Loading the data to work with\n",
    "data = load_breast_cancer()\n",
    "df = pd.DataFrame(data.data, columns=data.feature_names) \n",
    "df['target'] = data.target\n",
    "df.head()"
   ]
  },
  {
   "cell_type": "code",
   "execution_count": null,
   "metadata": {},
   "outputs": [],
   "source": [
    "# Information about dataset\n",
    "df.info()"
   ]
  },
  {
   "attachments": {},
   "cell_type": "markdown",
   "metadata": {},
   "source": [
    "### Training XGBoost"
   ]
  },
  {
   "cell_type": "code",
   "execution_count": null,
   "metadata": {},
   "outputs": [],
   "source": [
    "# Setting up the data for modelling\n",
    "\n",
    "y=df['target'].to_frame() # define Y \n",
    "X=df[df.columns.difference(['target'])] # define X \n",
    "\n",
    "X_train, X_test, y_train, y_test = None, None, None, None #Initializing required variables\n",
    "\n",
    "\"\"\" \n",
    "    TRAIN TEST SPLIT BELOW:\n",
    "    X_train, X_test, y_train, y_test\n",
    "\"\"\"\n",
    "\n",
    "#********************#\n",
    "\n",
    "\n"
   ]
  },
  {
   "cell_type": "code",
   "execution_count": null,
   "metadata": {},
   "outputs": [],
   "source": [
    "# Building model - Xgboost\n",
    "\n",
    "model = None #initializing required variables\n",
    "\n",
    "\"\"\" \n",
    "    Train your model below using \"model\" as your XGBoost model variable name\n",
    "\"\"\"\n",
    "\n",
    "#********************#\n",
    "\n",
    "\n",
    "\n",
    "# Train XGBoost model with training data\n",
    "\n",
    "#********************#"
   ]
  },
  {
   "cell_type": "code",
   "execution_count": null,
   "metadata": {},
   "outputs": [],
   "source": [
    "# Making prediction with test data\n",
    "y_pred = model.predict(X_test) "
   ]
  },
  {
   "cell_type": "code",
   "execution_count": null,
   "metadata": {},
   "outputs": [],
   "source": [
    "# Performance Measurement\n",
    "accuracy = accuracy_score(y_test, y_pred) \n",
    "print(\"Accuracy: %.2f%%\" % (accuracy * 100.0)) "
   ]
  },
  {
   "cell_type": "code",
   "execution_count": null,
   "metadata": {},
   "outputs": [],
   "source": [
    "# Classifier function for lime explanation\n",
    "\n",
    "\"\"\"\n",
    "    For ScikitClassifiers, this is classifier.predict_proba()\n",
    "\n",
    "\"\"\""
   ]
  },
  {
   "attachments": {},
   "cell_type": "markdown",
   "metadata": {},
   "source": [
    "### Lime Explainer"
   ]
  },
  {
   "cell_type": "code",
   "execution_count": null,
   "metadata": {},
   "outputs": [],
   "source": [
    "# Make a lime explainer code here:\n",
    "\n",
    "explainer = None #Initializing required variable.\n",
    "\n",
    "\"\"\" \n",
    "    Explainer code here -> \n",
    "    - make classification of \"negative\" & \"positive\"\n",
    "    - Use \"explainer\" as variable name for explainer object\n",
    "\"\"\"\n",
    "\n",
    "#********************#"
   ]
  },
  {
   "attachments": {},
   "cell_type": "markdown",
   "metadata": {},
   "source": [
    "### Explaining a single data point using lime explainer"
   ]
  },
  {
   "cell_type": "code",
   "execution_count": null,
   "metadata": {},
   "outputs": [],
   "source": [
    "# Explain a single data point say at 5th index of out data.\n",
    "\n",
    "exp = None  # Initializing required variable\n",
    "\n",
    "\"\"\"\n",
    "    show the explaination in a notebook form and store explanationin \"exp\" variable\n",
    "\"\"\"\n",
    "\n",
    "#*********************#"
   ]
  },
  {
   "cell_type": "code",
   "execution_count": null,
   "metadata": {},
   "outputs": [],
   "source": [
    "# Draw a barchart of the above explained data point\n",
    "\n",
    "#*********************#"
   ]
  }
 ],
 "metadata": {
  "kernelspec": {
   "display_name": "ml-practs",
   "language": "python",
   "name": "python3"
  },
  "language_info": {
   "codemirror_mode": {
    "name": "ipython",
    "version": 3
   },
   "file_extension": ".py",
   "mimetype": "text/x-python",
   "name": "python",
   "nbconvert_exporter": "python",
   "pygments_lexer": "ipython3",
   "version": "3.9.15 | packaged by conda-forge | (main, Nov 22 2022, 08:48:25) \n[Clang 14.0.6 ]"
  },
  "orig_nbformat": 4,
  "vscode": {
   "interpreter": {
    "hash": "56a11b7accd86fcd474849d621287ff6bbc366dcd32b69540a46519b7e9a252b"
   }
  }
 },
 "nbformat": 4,
 "nbformat_minor": 2
}
