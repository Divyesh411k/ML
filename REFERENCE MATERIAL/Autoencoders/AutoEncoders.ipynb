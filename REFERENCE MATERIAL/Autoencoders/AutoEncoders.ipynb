{
  "nbformat": 4,
  "nbformat_minor": 0,
  "metadata": {
    "colab": {
      "provenance": []
    },
    "kernelspec": {
      "name": "python3",
      "display_name": "Python 3"
    },
    "language_info": {
      "name": "python"
    }
  },
  "cells": [
    {
      "cell_type": "markdown",
      "source": [
        "## Auto Encoders"
      ],
      "metadata": {
        "id": "JeeDJpdS5zzH"
      }
    },
    {
      "cell_type": "code",
      "execution_count": 1,
      "metadata": {
        "id": "N0u9dfL2teXG"
      },
      "outputs": [],
      "source": [
        "import numpy as np\n",
        "import pandas as pd\n",
        "from sklearn.decomposition import PCA\n",
        "import matplotlib.pyplot as plt\n",
        "from sklearn import datasets\n",
        "from sklearn.preprocessing import MinMaxScaler\n",
        "from keras.layers import Input, Dense\n",
        "from keras.models import Model\n",
        "from sklearn.model_selection import train_test_split"
      ]
    },
    {
      "cell_type": "code",
      "source": [
        "# Loading the dataset\n",
        "iris = datasets.load_iris()\n",
        "\n",
        "X = iris.data\n",
        "y = iris.target\n",
        "print(\"X:\",X[0])\n",
        "target_names = iris.target_names\n",
        "\n",
        "\n",
        "# Scaling the data\n",
        "scaler = MinMaxScaler()\n",
        "scaler.fit(X)\n",
        "X_scaled = scaler.transform(X)"
      ],
      "metadata": {
        "colab": {
          "base_uri": "https://localhost:8080/"
        },
        "id": "aro6iGRutkEW",
        "outputId": "62fe2abb-9eff-4ba5-cac1-c10485971541"
      },
      "execution_count": 2,
      "outputs": [
        {
          "output_type": "stream",
          "name": "stdout",
          "text": [
            "X: [5.1 3.5 1.4 0.2]\n"
          ]
        }
      ]
    },
    {
      "cell_type": "code",
      "source": [
        "# Function for plotting the graphs\n",
        "\n",
        "def plot3clusters(X, title, vtitle):\n",
        "    plt.figure()\n",
        "    colors = ['navy','turquoise','darkorange']\n",
        "    for color, i, target_name in zip(colors, [0,1,2], target_names):\n",
        "        plt.scatter(X[y==i, 0], X[y==i, 1], color=color, label=target_name)\n",
        "        plt.legend(loc='upper left')\n",
        "        plt.title(title)\n",
        "        plt.xlabel(vtitle + \"1\")\n",
        "        plt.ylabel(vtitle + \"2\")\n",
        "        plt.show()"
      ],
      "metadata": {
        "id": "ZMuFXpDytrh0"
      },
      "execution_count": 3,
      "outputs": []
    },
    {
      "cell_type": "code",
      "source": [
        "\n",
        "\n",
        "\n",
        "# \"encoded\" representation of the input\n",
        "encoded = None\n",
        "\n",
        "# \"decoded\" lossy reconstruction of the input\n",
        "decoded = None\n",
        "\n",
        "# Map an input to reconstruction\n",
        "autoencoder = None\n",
        "\n",
        "history = None\n",
        "\n",
        "\n",
        "# Plot the loss\n",
        "plt.plot(history.history['loss'])\n",
        "plt.plot(history.history['val_loss'])\n",
        "plt.title('model train vs validation loss')\n",
        "plt.ylabel('loss')\n",
        "plt.xlabel('epoch')\n",
        "plt.legend(['train','validation'],loc='upper right')\n",
        "plt.show()\n",
        "\n",
        "\n",
        "# Use the encoded layer to encode the training input\n"
      ],
      "metadata": {
        "id": "oVEkKEdo57jt"
      },
      "execution_count": null,
      "outputs": []
    }
  ]
}