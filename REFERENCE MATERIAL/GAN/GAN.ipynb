{
  "cells": [
    {
      "attachments": {},
      "cell_type": "markdown",
      "metadata": {},
      "source": [
        "# GAN NETWORK"
      ]
    },
    {
      "cell_type": "markdown",
      "metadata": {
        "id": "dfqd9v2Tt1EC"
      },
      "source": [
        "# Importing required libraies"
      ]
    },
    {
      "cell_type": "code",
      "execution_count": null,
      "metadata": {
        "id": "BnC_bVqVbk-4"
      },
      "outputs": [],
      "source": [
        "from numpy import zeros, ones, expand_dims, asarray\n",
        "from numpy.random import randn, randint\n",
        "from keras.datasets import fashion_mnist\n",
        "from keras.optimizers import Adam\n",
        "from keras.models import Model, load_model\n",
        "from keras.layers import Input, Dense, Reshape, Flatten\n",
        "from keras.layers import Conv2D, Conv2DTranspose, Concatenate\n",
        "from keras.layers import LeakyReLU, Dropout, Embedding\n",
        "from keras.layers import BatchNormalization, Activation\n",
        "from keras import initializers\n",
        "from keras.initializers import RandomNormal\n",
        "from keras.optimizers import Adam, RMSprop, SGD\n",
        "from matplotlib import pyplot\n",
        "import numpy as np\n",
        "from math import sqrt"
      ]
    },
    {
      "cell_type": "markdown",
      "metadata": {
        "id": "-432THo2t6J0"
      },
      "source": [
        "# Importing fashion MNIST data"
      ]
    },
    {
      "cell_type": "code",
      "execution_count": null,
      "metadata": {
        "colab": {
          "base_uri": "https://localhost:8080/"
        },
        "id": "-WpVCa2GbyFh",
        "outputId": "345e356c-da77-42c0-a2d8-5b96496390bb"
      },
      "outputs": [
        {
          "name": "stdout",
          "output_type": "stream",
          "text": [
            "Downloading data from https://storage.googleapis.com/tensorflow/tf-keras-datasets/train-labels-idx1-ubyte.gz\n",
            "29515/29515 [==============================] - 0s 0us/step\n",
            "Downloading data from https://storage.googleapis.com/tensorflow/tf-keras-datasets/train-images-idx3-ubyte.gz\n",
            "26421880/26421880 [==============================] - 0s 0us/step\n",
            "Downloading data from https://storage.googleapis.com/tensorflow/tf-keras-datasets/t10k-labels-idx1-ubyte.gz\n",
            "5148/5148 [==============================] - 0s 0us/step\n",
            "Downloading data from https://storage.googleapis.com/tensorflow/tf-keras-datasets/t10k-images-idx3-ubyte.gz\n",
            "4422102/4422102 [==============================] - 0s 0us/step\n",
            "(60000, 28, 28, 1)\n"
          ]
        }
      ],
      "source": [
        "(X_train, _), (_, _) = fashion_mnist.load_data()\n",
        "X_train = X_train.astype(np.float32) / 127.5 - 1\n",
        "X_train = np.expand_dims(X_train, axis=3)\n",
        "print(X_train.shape)"
      ]
    },
    {
      "cell_type": "markdown",
      "metadata": {
        "id": "4sz4cplbt90D"
      },
      "source": [
        "# Helper functions"
      ]
    },
    {
      "cell_type": "code",
      "execution_count": null,
      "metadata": {
        "id": "HrxRhmsZb0mx"
      },
      "outputs": [],
      "source": [
        "def generate_latent_points(latent_dim, n_samples):\n",
        "    x_input = randn(latent_dim * n_samples)  \n",
        "    z_input = x_input.reshape(n_samples, latent_dim)\n",
        "    return z_input"
      ]
    },
    {
      "cell_type": "code",
      "execution_count": null,
      "metadata": {
        "id": "6ueJlaESb17T"
      },
      "outputs": [],
      "source": [
        "def generate_real_samples(X_train, n_samples):\n",
        "    ix = randint(0, X_train.shape[0], n_samples) \n",
        "    X = X_train[ix]  \n",
        "    y = ones((n_samples, 1)) \n",
        "    return X, y"
      ]
    },
    {
      "cell_type": "code",
      "execution_count": null,
      "metadata": {
        "id": "vt9jPxmRb2FJ"
      },
      "outputs": [],
      "source": [
        "def generate_fake_samples(generator, latent_dim, n_samples):\n",
        "    z_input = generate_latent_points(latent_dim, n_samples)\n",
        "    images = generator.predict(z_input)  \n",
        "    y = zeros((n_samples, 1))\n",
        "    return images, y"
      ]
    },
    {
      "cell_type": "code",
      "execution_count": null,
      "metadata": {
        "id": "9-3X5QWnb3Tj"
      },
      "outputs": [],
      "source": [
        "def summarize_performance(step, g_model, latent_dim, n_samples=100):\n",
        "    X, _ = generate_fake_samples(g_model, latent_dim, n_samples)\n",
        "    X = (X + 1) / 2.0\n",
        "    for i in range(100):\n",
        "        pyplot.subplot(10, 10, 1 + i)\n",
        "        pyplot.axis('off')\n",
        "        pyplot.imshow(X[i, :, :, 0], cmap='gray_r')\n",
        "    filename2 = 'model_%04d.h5' % (step+1)\n",
        "    g_model.save(filename2)\n",
        "    print('>Saved: %s' % (filename2))"
      ]
    },
    {
      "cell_type": "code",
      "execution_count": null,
      "metadata": {
        "id": "BA71CESob4yr"
      },
      "outputs": [],
      "source": [
        "def save_plot(examples, n_examples):\n",
        "    for i in range(n_examples):\n",
        "        pyplot.subplot(sqrt(n_examples), sqrt(n_examples), 1 + i)\n",
        "        pyplot.axis('off')\n",
        "        pyplot.imshow(examples[i, :, :, 0], cmap='gray_r')\n",
        "    pyplot.show()"
      ]
    },
    {
      "cell_type": "code",
      "execution_count": null,
      "metadata": {
        "id": "LPPbdzKmb506"
      },
      "outputs": [],
      "source": [
        "def define_discriminator(in_shape=(28, 28, 1)):\n",
        "    \n",
        "    \"\"\" \n",
        "        Define discriminator here and assign it to the model variable\n",
        "        the layers in the discriminator should be as follows:\n",
        "\n",
        "            input layer with shape=in_shape\n",
        "            Flatten layer\n",
        "            Dense layer with 1024 neurons\n",
        "            LeakyReLU layer with aplha=0.2\n",
        "            Dropout layer with rate=0.3\n",
        "            Dense layer with 512 neurons\n",
        "            LeakyReLU layer with aplha=0.2\n",
        "            Dropout layer with rate=0.3\n",
        "            Dense layer with 256 neurons\n",
        "            LeakyReLU layer with aplha=0.2\n",
        "            Dropout layer with rate=0.3\n",
        "            Dense layer with 1 neuron\n",
        "\n",
        "        Optimizer should be adam with learning_rate=0.0002 and beta_1=0.5\n",
        "        loss function should be binary_crossentropy metrics should be acuracy \n",
        "    \"\"\"\"\n",
        "\n",
        "    model = None\n",
        "    return model"
      ]
    },
    {
      "cell_type": "markdown",
      "metadata": {
        "id": "MV72rO8fuAmp"
      },
      "source": [
        "# Creating descriminator"
      ]
    },
    {
      "cell_type": "code",
      "execution_count": null,
      "metadata": {
        "id": "6Nnf2tbub7Va"
      },
      "outputs": [],
      "source": [
        "discriminator = define_discriminator()"
      ]
    },
    {
      "cell_type": "code",
      "execution_count": null,
      "metadata": {
        "id": "HscrKuT8b8p6"
      },
      "outputs": [],
      "source": [
        "def define_generator(latent_dim): \n",
        "    \n",
        "    #define generator here and assign it to the model variable\n",
        "    #the layers in the discriminator should be as follows:\n",
        "    #input layer should have shape=(latent_dim,)\n",
        "    #Dense layer with 256 neurons\n",
        "    #LeakyReLU layer with aplha=0.2\n",
        "    #Dense layer with 512 neurons\n",
        "    #LeakyReLU layer with aplha=0.2\n",
        "    #Dense layer with 1024 neurons\n",
        "    #LeakyReLU layer with aplha=0.2\n",
        "    #Dense layer with 784 neurons\n",
        "    #Activation function should be tanh\n",
        "    #Reshape output to shape=(28,28,1)\n",
        "\n",
        "    model = None\n",
        "    return model"
      ]
    },
    {
      "cell_type": "markdown",
      "metadata": {
        "id": "GZ5inP3yuDoW"
      },
      "source": [
        "# Creating Generator"
      ]
    },
    {
      "cell_type": "code",
      "execution_count": null,
      "metadata": {
        "id": "YQzx-Gl8cZDB"
      },
      "outputs": [],
      "source": [
        "generator = define_generator(500)"
      ]
    },
    {
      "cell_type": "code",
      "execution_count": null,
      "metadata": {
        "id": "VY7zws7xcaax"
      },
      "outputs": [],
      "source": [
        "def define_gan(g_model, d_model):\n",
        "    \n",
        "    #define generator here and assign it to the model variable\n",
        "    #set trainable attribute of discriminator as false\n",
        "    #optimizer should be adam with learning_rate=0.0002 and beta_1=0.5\n",
        "    #optimizer should be binary_crossentropy\n",
        "    #metrics should be accuracy\n",
        "\n",
        "    model = None\n",
        "    return model"
      ]
    },
    {
      "cell_type": "markdown",
      "metadata": {
        "id": "buryIjYhuF8X"
      },
      "source": [
        "# Creating GAN Model"
      ]
    },
    {
      "cell_type": "code",
      "execution_count": null,
      "metadata": {
        "id": "kZwYXYHrcbyq"
      },
      "outputs": [],
      "source": [
        "gan_model = define_gan(generator, discriminator)"
      ]
    },
    {
      "cell_type": "code",
      "execution_count": null,
      "metadata": {
        "id": "1VLpHHnIcc94"
      },
      "outputs": [],
      "source": [
        "def train(g_model, d_model, gan_model, X_train, latent_dim, n_epochs=100, n_batch=64):\n",
        "  \n",
        "  #train the model here\n",
        "  #define \"batches per epoch\"\n",
        "  #define \"number of steps\" based on \"batches per epochs\"\n",
        "  #train model for \"number of steps\" epochs\n",
        "  #call \"summarize_performance\" function at the end of epoch to print model accuracy and save model"
      ]
    },
    {
      "cell_type": "markdown",
      "metadata": {
        "id": "z5OJ0q64uI3K"
      },
      "source": [
        "# Training GAN with tuned hyperparameters"
      ]
    },
    {
      "cell_type": "code",
      "execution_count": null,
      "metadata": {
        "id": "w9RzTw75cec4"
      },
      "outputs": [],
      "source": [
        "latent_dim = 100\n",
        "train(generator, discriminator, gan_model, X_train, latent_dim, n_epochs=2, n_batch=32)"
      ]
    },
    {
      "cell_type": "markdown",
      "metadata": {
        "id": "_jhiRzS1uOzs"
      },
      "source": [
        "# Predicting 4 random images"
      ]
    },
    {
      "cell_type": "code",
      "execution_count": null,
      "metadata": {
        "colab": {
          "base_uri": "https://localhost:8080/",
          "height": 283
        },
        "id": "GscQS41Kcgaa",
        "outputId": "5deea5f9-1a19-4d74-ba6c-6737a9f1dc1d"
      },
      "outputs": [
        {
          "name": "stderr",
          "output_type": "stream",
          "text": [
            "WARNING:tensorflow:No training configuration found in the save file, so the model was *not* compiled. Compile it manually.\n"
          ]
        },
        {
          "name": "stdout",
          "output_type": "stream",
          "text": [
            "1/1 [==============================] - 0s 57ms/step\n"
          ]
        },
        {
          "data": {
            "image/png": "[encoded data removed]",
            "text/plain": [
              "<Figure size 432x288 with 4 Axes>"
            ]
          },
          "metadata": {
            "needs_background": "light"
          },
          "output_type": "display_data"
        }
      ],
      "source": [
        "model = load_model('model_3750.h5')\n",
        "latent_dim = 100\n",
        "n_examples = 4\n",
        "latent_points = generate_latent_points(latent_dim, n_examples)\n",
        "X  = model.predict(latent_points)\n",
        "X = (X + 1) / 2.0\n",
        "save_plot(X, n_examples)"
      ]
    },
    {
      "cell_type": "markdown",
      "metadata": {
        "id": "l9FB4hNXuRdS"
      },
      "source": [
        "# Comparing with original dataset"
      ]
    },
    {
      "cell_type": "code",
      "execution_count": null,
      "metadata": {
        "colab": {
          "base_uri": "https://localhost:8080/",
          "height": 248
        },
        "id": "33JszJpzglAn",
        "outputId": "6f622259-bfa9-41f4-d3b4-412bb7ed31ef"
      },
      "outputs": [
        {
          "data": {
            "image/png": "[encoded data removed]",
            "text/plain": [
              "<Figure size 432x288 with 4 Axes>"
            ]
          },
          "metadata": {
            "needs_background": "light"
          },
          "output_type": "display_data"
        }
      ],
      "source": [
        "save_plot(X_train, 4)"
      ]
    }
  ],
  "metadata": {
    "accelerator": "GPU",
    "colab": {
      "provenance": []
    },
    "gpuClass": "standard",
    "kernelspec": {
      "display_name": "Python 3",
      "language": "python",
      "name": "python3"
    },
    "language_info": {
      "codemirror_mode": {
        "name": "ipython",
        "version": 3
      },
      "file_extension": ".py",
      "mimetype": "text/x-python",
      "name": "python",
      "nbconvert_exporter": "python",
      "pygments_lexer": "ipython3",
      "version": "3.10.7"
    },
    "vscode": {
      "interpreter": {
        "hash": "b0fa6594d8f4cbf19f97940f81e996739fb7646882a419484c72d19e05852a7e"
      }
    }
  },
  "nbformat": 4,
  "nbformat_minor": 0
}
