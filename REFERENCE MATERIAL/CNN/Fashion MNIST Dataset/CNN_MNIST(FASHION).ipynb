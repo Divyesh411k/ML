{
  "nbformat": 4,
  "nbformat_minor": 0,
  "metadata": {
    "colab": {
      "provenance": [],
      "toc_visible": true
    },
    "kernelspec": {
      "name": "python3",
      "display_name": "Python 3"
    },
    "language_info": {
      "name": "python"
    }
  },
  "cells": [
    {
      "cell_type": "markdown",
      "source": [
        "**CNN (MNIST DIGIT DATASET)**\n"
      ],
      "metadata": {
        "id": "Y7bn7eKI9Zfp"
      }
    },
    {
      "cell_type": "markdown",
      "source": [
        "Insert Code wherever represented with \"#***************#\""
      ],
      "metadata": {
        "id": "S2NnlUwG-F9N"
      }
    },
    {
      "cell_type": "markdown",
      "source": [
        "# Importing Libraries"
      ],
      "metadata": {
        "id": "K_vch6Ru_S7B"
      }
    },
    {
      "cell_type": "code",
      "execution_count": null,
      "metadata": {
        "id": "tqfK9VgKUeOk"
      },
      "outputs": [],
      "source": [
        "import keras\n",
        "import cv2\n",
        "import numpy as np\n",
        "from keras.datasets import fashion_mnist\n",
        "from keras.models import Sequential , load_model\n",
        "from keras.layers import Dense, Dropout, Flatten, Conv2D, MaxPooling2D\n",
        "import matplotlib.pyplot as plt\n",
        "from keras.utils.vis_utils import plot_model"
      ]
    },
    {
      "cell_type": "markdown",
      "source": [
        "# Data Preprocessing"
      ],
      "metadata": {
        "id": "YBdpRv6B_uTn"
      }
    },
    {
      "cell_type": "code",
      "source": [
        "(x_train, y_train), (x_test, y_test) = fashion_mnist.load_data()\n",
        "\n",
        "x_train= x_train.reshape(60000,28,28)\n",
        "\n",
        "x_test= x_test.reshape(x_test.shape[0],28,28)\n",
        "\n",
        "input_shape=(28,28,1)\n",
        "\n",
        "y_train=keras.utils.to_categorical(y_train,10)\n",
        "\n",
        "y_test=keras.utils.to_categorical(y_test,10)\n",
        "\n",
        "x_train= x_train.astype('float32')\n",
        "x_test= x_test.astype('float32')\n",
        "\n",
        "for i in range(10):\n",
        "  plt.imshow(x_train[i])\n",
        "  plt.subplot(5,2,i+1)"
      ],
      "metadata": {
        "colab": {
          "base_uri": "https://localhost:8080/",
          "height": 269
        },
        "id": "qsL8aQe88Eeu",
        "outputId": "4b287c35-58a2-44f3-a9c1-8a9deefb896c"
      },
      "execution_count": null,
      "outputs": [
        {
          "output_type": "display_data",
          "data": {
            "text/plain": [
              "<Figure size 432x288 with 10 Axes>"
            ],
            "image/png": "[encoded data removed]"
          },
          "metadata": {
            "needs_background": "light"
          }
        }
      ]
    },
    {
      "cell_type": "markdown",
      "source": [
        "# Build CNN Model"
      ],
      "metadata": {
        "id": "0IKub0EVK0Qj"
      }
    },
    {
      "cell_type": "code",
      "source": [
        "x_train /= 255\n",
        "x_test /=255\n",
        "model = None  #Initialize model here\n",
        "\n",
        "'''\n",
        "Define batch size of 64 , \n",
        "No of classes (interpret from data)\n",
        "Train for 5 epochs\n",
        "\n",
        "'''\n",
        "\n",
        "def build_model(optimizer): \n",
        "\n",
        "  '''\n",
        "  Define a sequential model with categorical cross entropy as loss function consisting\n",
        "  2 convolution and 2 pooling layers with relu as activation function followed by\n",
        "  droput -> flatten -> dense -> dropout -> dense\n",
        "\n",
        "  Convolution layer - (kernel size = (3*3))\n",
        "  Pooling layer - (pool size = (2*2))\n",
        "\n",
        "  '''\n",
        "\n",
        "  #****** INSERT MODEL CODE HERE ******\n",
        "\n",
        "  return model \n",
        "\n",
        "#**** call build model with RMSprop and SGDOptimizer Optimizer ****\n",
        "\n",
        "\n",
        "plot_model(model, to_file=\"mnist model\"+ '.jpg', show_shapes=True)\n",
        "hist=model.fit(x_train, y_train, batch_size=batch_size, epochs=epochs, verbose=1, validation_data=(x_test,y_test)) "
      ],
      "metadata": {
        "colab": {
          "base_uri": "https://localhost:8080/"
        },
        "id": "eAOm0vmLBLip",
        "outputId": "0bad3a9d-6e82-43f4-d7a5-b199740e7888"
      },
      "execution_count": null,
      "outputs": [
        {
          "output_type": "stream",
          "name": "stdout",
          "text": [
            "Model: \"sequential\"\n",
            "_________________________________________________________________\n",
            " Layer (type)                Output Shape              Param #   \n",
            "=================================================================\n",
            " conv2d (Conv2D)             (None, 26, 26, 32)        320       \n",
            "                                                                 \n",
            " max_pooling2d (MaxPooling2D  (None, 13, 13, 32)       0         \n",
            " )                                                               \n",
            "                                                                 \n",
            " conv2d_1 (Conv2D)           (None, 11, 11, 32)        9248      \n",
            "                                                                 \n",
            " max_pooling2d_1 (MaxPooling  (None, 5, 5, 32)         0         \n",
            " 2D)                                                             \n",
            "                                                                 \n",
            " dropout (Dropout)           (None, 5, 5, 32)          0         \n",
            "                                                                 \n",
            " flatten (Flatten)           (None, 800)               0         \n",
            "                                                                 \n",
            " dense (Dense)               (None, 256)               205056    \n",
            "                                                                 \n",
            " dropout_1 (Dropout)         (None, 256)               0         \n",
            "                                                                 \n",
            " dense_1 (Dense)             (None, 10)                2570      \n",
            "                                                                 \n",
            "=================================================================\n",
            "Total params: 217,194\n",
            "Trainable params: 217,194\n",
            "Non-trainable params: 0\n",
            "_________________________________________________________________\n",
            "Epoch 1/2\n",
            "938/938 [==============================] - 55s 56ms/step - loss: 0.5761 - accuracy: 0.7889 - val_loss: 0.4039 - val_accuracy: 0.8566\n",
            "Epoch 2/2\n",
            "938/938 [==============================] - 50s 54ms/step - loss: 0.3897 - accuracy: 0.8587 - val_loss: 0.3480 - val_accuracy: 0.8728\n"
          ]
        }
      ]
    },
    {
      "cell_type": "code",
      "source": [
        "y1=hist.history['accuracy']\n",
        "y2=hist.history['val_accuracy']\n",
        "plt.plot(y1)\n",
        "plt.plot(y2)"
      ],
      "metadata": {
        "colab": {
          "base_uri": "https://localhost:8080/",
          "height": 282
        },
        "id": "Y-VbkMbGzZ8M",
        "outputId": "38e09472-4bef-4425-9c77-8dcbc0593a5b"
      },
      "execution_count": null,
      "outputs": [
        {
          "output_type": "execute_result",
          "data": {
            "text/plain": [
              "[<matplotlib.lines.Line2D at 0x7fc5858d16a0>]"
            ]
          },
          "metadata": {},
          "execution_count": 5
        },
        {
          "output_type": "display_data",
          "data": {
            "text/plain": [
              "<Figure size 432x288 with 1 Axes>"
            ],
            "image/png": "[encoded data removed]"
          },
          "metadata": {
            "needs_background": "light"
          }
        }
      ]
    },
    {
      "cell_type": "markdown",
      "source": [
        "# Predict Image"
      ],
      "metadata": {
        "id": "sN7dbWyxLMSu"
      }
    },
    {
      "cell_type": "code",
      "source": [
        "keras.models.save_model(model, \"mnist.h5\", save_format=\"h5\")\n",
        "\n",
        "labels = {0 : \"T-shirt/top\", 1: \"Trouser\", 2: \"Pullover\", 3: \"Dress\", 4: \"Coat\",\n",
        "          5: \"Sandal\", 6: \"Shirt\", 7: \"Sneaker\", 8: \"Bag\", 9: \"Ankle Boot\"}\n",
        "\n",
        "def predict_image(model, img):\n",
        "\n",
        "  '''\n",
        "  Reshape the image into (1,28,28)\n",
        "  predict the answer and print it\n",
        "\n",
        "  '''\n",
        "  #**** Insert code here ****\n",
        "\n",
        "\n",
        "m = load_model('/content/mnist.h5')\n",
        "predict_image(m, x_test[7])\n",
        "plt.imshow(x_test[7],cmap='gray')\n"
      ],
      "metadata": {
        "id": "kegd0MEqEgXD",
        "colab": {
          "base_uri": "https://localhost:8080/",
          "height": 352
        },
        "outputId": "0b3b6aa7-20f0-472a-eaf0-894d4995a040"
      },
      "execution_count": null,
      "outputs": [
        {
          "output_type": "stream",
          "name": "stdout",
          "text": [
            "1/1 [==============================] - 0s 71ms/step\n",
            "[[2.3701428e-03 6.1609288e-05 1.2226738e-02 7.2117883e-04 1.2293209e-01\n",
            "  2.2050817e-05 8.5784298e-01 3.4762900e-07 3.8184042e-03 4.3993005e-06]]\n",
            "Shirt\n"
          ]
        },
        {
          "output_type": "execute_result",
          "data": {
            "text/plain": [
              "<matplotlib.image.AxesImage at 0x7fc587296e50>"
            ]
          },
          "metadata": {},
          "execution_count": 7
        },
        {
          "output_type": "display_data",
          "data": {
            "text/plain": [
              "<Figure size 432x288 with 1 Axes>"
            ],
            "image/png": "[encoded data removed]"
          },
          "metadata": {
            "needs_background": "light"
          }
        }
      ]
    },
    {
      "cell_type": "markdown",
      "source": [],
      "metadata": {
        "id": "1ki_0BmBatUw"
      }
    }
  ]
}