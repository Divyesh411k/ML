{
 "cells": [
  {
   "attachments": {},
   "cell_type": "markdown",
   "metadata": {},
   "source": [
    "# EXPLAINABLE AI: SHAP ALGORITHM"
   ]
  },
  {
   "attachments": {},
   "cell_type": "markdown",
   "metadata": {},
   "source": [
    "### Importing Libraries Required"
   ]
  },
  {
   "cell_type": "code",
   "execution_count": null,
   "metadata": {},
   "outputs": [],
   "source": [
    "!pip install shap\n",
    "from sklearn.metrics import accuracy_score\n",
    "from sklearn.datasets import load_breast_cancer\n",
    "from sklearn.model_selection import train_test_split\n",
    "from sklearn.preprocessing import LabelEncoder\n",
    "from xgboost import XGBClassifier\n",
    "\n",
    "import numpy as np\n",
    "import pandas as pd\n",
    "np.random.seed(123)\n",
    "\n",
    "import shap\n",
    "\n",
    "import warnings\n",
    "warnings.filterwarnings ('ignore')"
   ]
  },
  {
   "attachments": {},
   "cell_type": "markdown",
   "metadata": {},
   "source": [
    "### Importing Data"
   ]
  },
  {
   "cell_type": "code",
   "execution_count": null,
   "metadata": {},
   "outputs": [],
   "source": [
    "# Loading the data to work with\n",
    "data = load_breast_cancer()\n",
    "df = pd.DataFrame(data.data, columns=data.feature_names) \n",
    "df['target'] = data.target\n",
    "df.head()"
   ]
  },
  {
   "cell_type": "code",
   "execution_count": null,
   "metadata": {},
   "outputs": [],
   "source": [
    "# Information about dataset\n",
    "df.info()"
   ]
  },
  {
   "attachments": {},
   "cell_type": "markdown",
   "metadata": {},
   "source": [
    "### Training XGBoost"
   ]
  },
  {
   "cell_type": "code",
   "execution_count": null,
   "metadata": {},
   "outputs": [],
   "source": [
    "# Setting up the data for modelling\n",
    "\n",
    "y=df['target'].to_frame() # define Y \n",
    "X=df[df.columns.difference(['target'])] # define X \n",
    "\n",
    "X_train, X_test, y_train, y_test = None, None, None, None #Initializing required variables\n",
    "\n",
    "\"\"\" \n",
    "    TRAIN TEST SPLIT BELOW:\n",
    "    X_train, X_test, y_train, y_test\n",
    "\"\"\"\n",
    "\n",
    "#********************#\n",
    "\n",
    "\n"
   ]
  },
  {
   "cell_type": "code",
   "execution_count": null,
   "metadata": {},
   "outputs": [],
   "source": [
    "# Building model - Xgboost\n",
    "\n",
    "model = None #initializing required variables\n",
    "\n",
    "\"\"\" \n",
    "    Train your model below using \"model\" as your XGBoost model variable name\n",
    "\"\"\"\n",
    "\n",
    "#********************#\n",
    "\n",
    "\n",
    "\n",
    "# Train XGBoost model with training data\n",
    "\n",
    "#********************#"
   ]
  },
  {
   "cell_type": "code",
   "execution_count": null,
   "metadata": {},
   "outputs": [],
   "source": [
    "# Making prediction with test data\n",
    "y_pred = model.predict(X_test) "
   ]
  },
  {
   "cell_type": "code",
   "execution_count": null,
   "metadata": {},
   "outputs": [],
   "source": [
    "# Performance Measurement\n",
    "accuracy = accuracy_score(y_test, y_pred) \n",
    "print(\"Accuracy: %.2f%%\" % (accuracy * 100.0)) "
   ]
  },
  {
   "attachments": {},
   "cell_type": "markdown",
   "metadata": {},
   "source": [
    "### Shap explainer"
   ]
  },
  {
   "cell_type": "code",
   "execution_count": null,
   "metadata": {},
   "outputs": [],
   "source": [
    "# Write a lime explainer code here:\n",
    "\n",
    "explainer = None #Initializing required variable.\n",
    "\n",
    "\"\"\" \n",
    "    Explainer code here -> \n",
    "    - make a tree explainer for the model\n",
    "    - Use \"explainer\" as variable name for explainer object\n",
    "\"\"\"\n",
    "\n",
    "#********************#"
   ]
  },
  {
   "attachments": {},
   "cell_type": "markdown",
   "metadata": {},
   "source": [
    "### Storing Shap expected value"
   ]
  },
  {
   "cell_type": "code",
   "execution_count": null,
   "metadata": {},
   "outputs": [],
   "source": [
    "# Store shap expected values and shap values\n",
    "\n",
    "shap_values, expected_values = None\n",
    "\n",
    "\"\"\"\n",
    "    Shap values in \"shap_value\" variable\n",
    "    Expected shap values in \"expected_value\" variable\n",
    "\"\"\"\n",
    "\n",
    "#********************#"
   ]
  },
  {
   "attachments": {},
   "cell_type": "markdown",
   "metadata": {},
   "source": [
    "### Explaining XGBoost AI using Shap explainer"
   ]
  },
  {
   "cell_type": "code",
   "execution_count": null,
   "metadata": {},
   "outputs": [],
   "source": [
    "# Make a feature vs its impact on model char"
   ]
  },
  {
   "cell_type": "code",
   "execution_count": null,
   "metadata": {},
   "outputs": [],
   "source": [
    "# Make a bar graph plot"
   ]
  }
 ],
 "metadata": {
  "kernelspec": {
   "display_name": "ml-practs",
   "language": "python",
   "name": "python3"
  },
  "language_info": {
   "codemirror_mode": {
    "name": "ipython",
    "version": 3
   },
   "file_extension": ".py",
   "mimetype": "text/x-python",
   "name": "python",
   "nbconvert_exporter": "python",
   "pygments_lexer": "ipython3",
   "version": "3.9.15"
  },
  "orig_nbformat": 4,
  "vscode": {
   "interpreter": {
    "hash": "56a11b7accd86fcd474849d621287ff6bbc366dcd32b69540a46519b7e9a252b"
   }
  }
 },
 "nbformat": 4,
 "nbformat_minor": 2
}
